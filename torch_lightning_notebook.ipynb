{
 "cells": [
  {
   "cell_type": "code",
   "execution_count": 1,
   "id": "95d11d89-da35-4dd2-a392-993bfc6f3df3",
   "metadata": {
    "tags": []
   },
   "outputs": [],
   "source": [
    "import os\n",
    "import sys\n",
    "\n",
    "import torch\n",
    "import torchvision\n",
    "import torchvision.transforms as tvtf\n",
    "from torch.utils.data import Dataset\n",
    "import numpy as np\n",
    "import pandas as pd\n",
    "import matplotlib.pyplot as plt\n",
    "\n",
    "from PIL import Image\n",
    "from typing import Tuple"
   ]
  },
  {
   "cell_type": "code",
   "execution_count": 2,
   "id": "2715e367-ffa6-4a57-a084-90fb63b6dec1",
   "metadata": {
    "tags": []
   },
   "outputs": [],
   "source": [
    "# automatically reloads external files\n",
    "%load_ext autoreload\n",
    "%autoreload 2\n",
    "\n",
    "data_path = '/home/tungnguyendinh/.fastai/data/pascal_2007/'"
   ]
  },
  {
   "cell_type": "code",
   "execution_count": 3,
   "id": "b118cd98-5286-461a-bb15-15a03b7a7cb2",
   "metadata": {
    "tags": []
   },
   "outputs": [],
   "source": [
    "VOC_CLASSES = (\n",
    "    'aeroplane', 'bicycle', 'bird', 'boat',\n",
    "    'bottle', 'bus', 'car', 'cat', 'chair',\n",
    "    'cow', 'diningtable', 'dog', 'horse',\n",
    "    'motorbike', 'person', 'pottedplant', \n",
    "    'sheep', 'sofa', 'train', 'tvmonitor'\n",
    ")\n",
    "\n",
    "def encode_label(labels, classes=VOC_CLASSES):\n",
    "    '''\n",
    "    Takes a list of label names as input, encodes them into a binary tensor:\n",
    "        - Same length as len(VOC_CLASSES)\n",
    "        - Each element represents the presence (1) or absence (0) of a specific class\n",
    "        \n",
    "    '''\n",
    "    target = torch.zeros(len(classes))\n",
    "    for l in labels:\n",
    "        idx = classes.index(l)\n",
    "        target[idx] = 1 # 1 if label is present \n",
    "    \n",
    "    return target\n",
    "\n",
    "\n",
    "def decode_target(target, threshold=0.5, classes=VOC_CLASSES):\n",
    "    '''\n",
    "    Input: Tensor that represents class confidence score (Sigmoid, not Softmax)\n",
    "    If score >= threshold, the corresponding class score (classes) is added to label results, \n",
    "        which is returned.\n",
    "    '''\n",
    "    results = []\n",
    "    \n",
    "    for idx, cls_score in enumerate(target):\n",
    "        if (cls_score >= threshold):\n",
    "            results.append(classes[idx])\n",
    "            \n",
    "    return ' '.join(results)\n",
    "        \n",
    "class PascalVOCDataset(Dataset):\n",
    "    def __init__(self, data_path, csv_file, transform=None, is_test=False, is_valid=False):\n",
    "        self.data_path = data_path\n",
    "        self.csv_file = csv_file\n",
    "        self.transform = transform\n",
    "        self.is_test = is_test\n",
    "\n",
    "        # load CSV file containing annotations\n",
    "        self.annotations = pd.read_csv(os.path.join(data_path, csv_file)) # N * 3\n",
    "\n",
    "        # filter validation data based on 'is_valid' column\n",
    "        if is_test:\n",
    "            pass\n",
    "        else:\n",
    "            if is_valid:\n",
    "                self.annotations = self.annotations[self.annotations['is_valid']==True]\n",
    "            else:\n",
    "                self.annotations = self.annotations[self.annotations['is_valid']==False]\n",
    "\n",
    "    \n",
    "    def __len__(self):\n",
    "        return len(self.annotations)\n",
    "\n",
    "    def __getitem__(self, index: int) -> Tuple[torch.Tensor, str]:\n",
    "        # get image filename and label at specified index:\n",
    "        img_filename = self.annotations.iloc[index, 0]\n",
    "        label = self.annotations.iloc[index, 1].split(' ')\n",
    "        \n",
    "        # load image\n",
    "        img_path = os.path.join(self.data_path, 'train', img_filename) if not self.is_test else os.path.join(self.data_path, 'test', img_filename)\n",
    "        img = Image.open(img_path).convert('RGB')\n",
    "\n",
    "        # apply transformations\n",
    "        if self.transform:\n",
    "            img = self.transform(img)\n",
    "        \n",
    "        return img, encode_label(label)\n",
    "        \n",
    "        \n",
    "\n",
    "mean = [.485, 0.456, 0.406]\n",
    "std = [0.229, 0.224, 0.225]\n",
    "\n",
    "\n",
    "train_transform = tvtf.Compose([\n",
    "    tvtf.Resize((300, 300)),\n",
    "    tvtf.RandomCrop((256, 256)),\n",
    "    tvtf.RandomHorizontalFlip(p=0.2),\n",
    "    tvtf.ToTensor(),\n",
    "    tvtf.Normalize(mean=mean, std=std)\n",
    "])\n",
    "\n",
    "eval_test_transform = tvtf.Compose([\n",
    "    tvtf.Resize((300, 300)),\n",
    "    tvtf.CenterCrop((256, 256)),\n",
    "    tvtf.RandomHorizontalFlip(p=0.25),\n",
    "    tvtf.ToTensor(),\n",
    "    tvtf.Normalize(mean=mean, std=std)\n",
    "])\n",
    "\n",
    "\n",
    "\n",
    "# train_ds\n",
    "ds_train = PascalVOCDataset(data_path, 'train.csv', transform=train_transform, is_test=False, is_valid=False)\n",
    "\n",
    "# valid_ds\n",
    "ds_valid = PascalVOCDataset(data_path, 'train.csv', transform=eval_test_transform, is_test=False, is_valid=True)\n",
    "\n",
    "# test_ds\n",
    "ds_test = PascalVOCDataset(data_path, 'test.csv', transform=eval_test_transform, is_test=True, is_valid=False)\n",
    "\n",
    "\n",
    "# DATALOADER\n",
    "from torch.utils.data import DataLoader\n",
    "\n",
    "BATCH_SIZE = 68\n",
    "num_workers = 8\n",
    "\n",
    "dl_train = DataLoader(ds_train, batch_size=BATCH_SIZE, shuffle=True, num_workers=num_workers) \n",
    "dl_valid = DataLoader(ds_valid, batch_size=BATCH_SIZE, shuffle=False, num_workers=num_workers)\n",
    "dl_test = DataLoader(ds_test, batch_size=BATCH_SIZE, shuffle=False, num_workers=num_workers)"
   ]
  },
  {
   "cell_type": "code",
   "execution_count": 4,
   "id": "a14cf1e1-8099-4b43-aea9-17796ab2e952",
   "metadata": {
    "tags": []
   },
   "outputs": [
    {
     "name": "stderr",
     "output_type": "stream",
     "text": [
      "Clipping input data to the valid range for imshow with RGB data ([0..1] for floats or [0..255] for integers).\n"
     ]
    },
    {
     "data": {
      "image/png": "[encoded data removed]",
      "text/plain": [
       "<Figure size 640x480 with 1 Axes>"
      ]
     },
     "metadata": {},
     "output_type": "display_data"
    }
   ],
   "source": [
    "def plot_img(ds, index: int):\n",
    "    image = ds[index][0].numpy().transpose((1, 2, 0)) # c, h, w -> h, w, c\n",
    "    plt.imshow(image)\n",
    "    plt.axis('off')\n",
    "    plt.show()\n",
    "\n",
    "\n",
    "plot_img(ds_train, 10)"
   ]
  },
  {
   "cell_type": "code",
   "execution_count": null,
   "id": "9c3f2254-1f0c-4b53-8d12-3c9a93b1df35",
   "metadata": {},
   "outputs": [],
   "source": []
  },
  {
   "cell_type": "code",
   "execution_count": 5,
   "id": "ccc83554-2f0a-4e05-bc98-a3e840afe48d",
   "metadata": {
    "tags": []
   },
   "outputs": [],
   "source": [
    "# # setting device on GPU if available, else CPU\n",
    "# device = torch.device('cuda:3' if torch.cuda.is_available() else 'cpu')\n",
    "# print('Using device:', device)\n",
    "# print()\n",
    "\n",
    "# #Additional Info when using cuda\n",
    "# if device.type == 'cuda':\n",
    "#     print(torch.cuda.get_device_name(0))\n",
    "#     print('Memory Usage:')\n",
    "#     print('Allocated:', round(torch.cuda.memory_allocated(0)/1024**3,1), 'GB')\n",
    "#     print('Cached:   ', round(torch.cuda.memory_reserved(0)/1024**3,1), 'GB')"
   ]
  },
  {
   "cell_type": "code",
   "execution_count": 6,
   "id": "cf3c2209-db34-467b-9bd0-f968b91757ea",
   "metadata": {
    "tags": []
   },
   "outputs": [],
   "source": [
    "from classifier_lightning import NNLightning"
   ]
  },
  {
   "cell_type": "code",
   "execution_count": 7,
   "id": "17f5d587-477f-42ff-96fd-3168b46b8c0b",
   "metadata": {
    "tags": []
   },
   "outputs": [
    {
     "name": "stderr",
     "output_type": "stream",
     "text": [
      "/home/hiepphamduc/miniconda3/envs/torch_env/lib/python3.11/site-packages/torchvision/models/_utils.py:208: UserWarning: The parameter 'pretrained' is deprecated since 0.13 and may be removed in the future, please use 'weights' instead.\n",
      "  warnings.warn(\n",
      "/home/hiepphamduc/miniconda3/envs/torch_env/lib/python3.11/site-packages/torchvision/models/_utils.py:223: UserWarning: Arguments other than a weight enum or `None` for 'weights' are deprecated since 0.13 and may be removed in the future. The current behavior is equivalent to passing `weights=ResNet50_Weights.IMAGENET1K_V1`. You can also use `weights=ResNet50_Weights.DEFAULT` to get the most up-to-date weights.\n",
      "  warnings.warn(msg)\n"
     ]
    }
   ],
   "source": [
    "model = torchvision.models.resnet50(pretrained=True)\n",
    "\n",
    "for p in model.parameters():\n",
    "    p.requires_grad = False\n",
    "    \n",
    "model.avgpool = torch.nn.AdaptiveAvgPool2d(1)\n",
    "model.fc = torch.nn.Sequential(torch.nn.Dropout(0,2),\n",
    "                         torch.nn.Linear(model.fc.in_features, 20))\n",
    "\n",
    "model = NNLightning(model, threshold=0.5)"
   ]
  },
  {
   "cell_type": "code",
   "execution_count": 8,
   "id": "6a0ea873-f03c-4d6a-a3e5-82346b6faa73",
   "metadata": {
    "tags": []
   },
   "outputs": [],
   "source": [
    "import pytorch_lightning as pl"
   ]
  },
  {
   "cell_type": "code",
   "execution_count": null,
   "id": "e0269a3f-93b0-43b7-aaa7-7ed3d0492d64",
   "metadata": {},
   "outputs": [],
   "source": []
  },
  {
   "cell_type": "code",
   "execution_count": 9,
   "id": "ab262dde-ae6a-4a70-bb98-74770523ec5d",
   "metadata": {
    "tags": []
   },
   "outputs": [
    {
     "name": "stderr",
     "output_type": "stream",
     "text": [
      "/home/hiepphamduc/miniconda3/envs/torch_env/lib/python3.11/site-packages/lightning_fabric/plugins/environments/slurm.py:168: PossibleUserWarning: The `srun` command is available on your system but is not used. HINT: If your intention is to run Lightning on SLURM, prepend your python command with `srun` like so: srun python /home/hiepphamduc/miniconda3/envs/torch_env/lib/pyth ...\n",
      "  rank_zero_warn(\n",
      "Using 16bit Automatic Mixed Precision (AMP)\n",
      "GPU available: True (cuda), used: True\n",
      "TPU available: False, using: 0 TPU cores\n",
      "IPU available: False, using: 0 IPUs\n",
      "HPU available: False, using: 0 HPUs\n",
      "/home/hiepphamduc/miniconda3/envs/torch_env/lib/python3.11/site-packages/lightning_fabric/plugins/environments/slurm.py:168: PossibleUserWarning: The `srun` command is available on your system but is not used. HINT: If your intention is to run Lightning on SLURM, prepend your python command with `srun` like so: srun python /home/hiepphamduc/miniconda3/envs/torch_env/lib/pyth ...\n",
      "  rank_zero_warn(\n",
      "Initializing distributed: GLOBAL_RANK: 0, MEMBER: 1/4\n",
      "/home/hiepphamduc/miniconda3/envs/torch_env/lib/python3.11/site-packages/lightning_fabric/plugins/environments/slurm.py:168: PossibleUserWarning: The `srun` command is available on your system but is not used. HINT: If your intention is to run Lightning on SLURM, prepend your python command with `srun` like so: srun python /home/hiepphamduc/miniconda3/envs/torch_env/lib/pyth ...\n",
      "  rank_zero_warn(\n",
      "Initializing distributed: GLOBAL_RANK: 1, MEMBER: 2/4\n",
      "/home/hiepphamduc/miniconda3/envs/torch_env/lib/python3.11/site-packages/lightning_fabric/plugins/environments/slurm.py:168: PossibleUserWarning: The `srun` command is available on your system but is not used. HINT: If your intention is to run Lightning on SLURM, prepend your python command with `srun` like so: srun python /home/hiepphamduc/miniconda3/envs/torch_env/lib/pyth ...\n",
      "  rank_zero_warn(\n",
      "Initializing distributed: GLOBAL_RANK: 2, MEMBER: 3/4\n",
      "/home/hiepphamduc/miniconda3/envs/torch_env/lib/python3.11/site-packages/lightning_fabric/plugins/environments/slurm.py:168: PossibleUserWarning: The `srun` command is available on your system but is not used. HINT: If your intention is to run Lightning on SLURM, prepend your python command with `srun` like so: srun python /home/hiepphamduc/miniconda3/envs/torch_env/lib/pyth ...\n",
      "  rank_zero_warn(\n",
      "Initializing distributed: GLOBAL_RANK: 3, MEMBER: 4/4\n",
      "----------------------------------------------------------------------------------------------------\n",
      "distributed_backend=nccl\n",
      "All distributed processes registered. Starting with 4 processes\n",
      "----------------------------------------------------------------------------------------------------\n",
      "\n",
      "LOCAL_RANK: 0 - CUDA_VISIBLE_DEVICES: [0,1,2,3]\n",
      "LOCAL_RANK: 2 - CUDA_VISIBLE_DEVICES: [0,1,2,3]\n",
      "LOCAL_RANK: 1 - CUDA_VISIBLE_DEVICES: [0,1,2,3]\n",
      "LOCAL_RANK: 3 - CUDA_VISIBLE_DEVICES: [0,1,2,3]\n",
      "\n",
      "  | Name    | Type              | Params\n",
      "----------------------------------------------\n",
      "0 | model   | ResNet            | 23.5 M\n",
      "1 | loss_fn | BCEWithLogitsLoss | 0     \n",
      "----------------------------------------------\n",
      "41.0 K    Trainable params\n",
      "23.5 M    Non-trainable params\n",
      "23.5 M    Total params\n",
      "94.196    Total estimated model params size (MB)\n"
     ]
    },
    {
     "data": {
      "application/vnd.jupyter.widget-view+json": {
       "model_id": "",
       "version_major": 2,
       "version_minor": 0
      },
      "text/plain": [
       "Sanity Checking: 0it [00:00, ?it/s]"
      ]
     },
     "metadata": {},
     "output_type": "display_data"
    },
    {
     "name": "stdout",
     "output_type": "stream",
     "text": [
      "VALIDATION -- avg_loss=tensor(955.8214, device='cuda:0') -- acc=tensor(0.5401, device='cuda:0') -- mod_acc=tensor(0.4532, device='cuda:0')\n",
      "VALIDATION -- avg_loss=tensor(950.8279, device='cuda:2') -- acc=tensor(0.5581, device='cuda:2') -- mod_acc=tensor(0.4084, device='cuda:2')\n",
      "VALIDATION -- avg_loss=tensor(947.2518, device='cuda:1') -- acc=tensor(0.5632, device='cuda:1') -- mod_acc=tensor(0.4623, device='cuda:1')\n",
      "VALIDATION -- avg_loss=tensor(949.4386, device='cuda:3') -- acc=tensor(0.5482, device='cuda:3') -- mod_acc=tensor(0.4406, device='cuda:3')\n"
     ]
    },
    {
     "name": "stderr",
     "output_type": "stream",
     "text": [
      "/home/hiepphamduc/miniconda3/envs/torch_env/lib/python3.11/site-packages/pytorch_lightning/trainer/connectors/logger_connector/result.py:433: PossibleUserWarning: It is recommended to use `self.log('valid_loss', ..., sync_dist=True)` when logging on epoch level in distributed setting to accumulate the metric across devices.\n",
      "  warning_cache.warn(\n",
      "/home/hiepphamduc/miniconda3/envs/torch_env/lib/python3.11/site-packages/pytorch_lightning/trainer/connectors/logger_connector/result.py:433: PossibleUserWarning: It is recommended to use `self.log('valid_acc', ..., sync_dist=True)` when logging on epoch level in distributed setting to accumulate the metric across devices.\n",
      "  warning_cache.warn(\n",
      "/home/hiepphamduc/miniconda3/envs/torch_env/lib/python3.11/site-packages/pytorch_lightning/trainer/connectors/logger_connector/result.py:433: PossibleUserWarning: It is recommended to use `self.log('valid_mod_acc', ..., sync_dist=True)` when logging on epoch level in distributed setting to accumulate the metric across devices.\n",
      "  warning_cache.warn(\n"
     ]
    },
    {
     "data": {
      "application/vnd.jupyter.widget-view+json": {
       "model_id": "ce3093c17de24a6780562778135c99ae",
       "version_major": 2,
       "version_minor": 0
      },
      "text/plain": [
       "Training: 0it [00:00, ?it/s]"
      ]
     },
     "metadata": {},
     "output_type": "display_data"
    },
    {
     "data": {
      "application/vnd.jupyter.widget-view+json": {
       "model_id": "",
       "version_major": 2,
       "version_minor": 0
      },
      "text/plain": [
       "Validation: 0it [00:00, ?it/s]"
      ]
     },
     "metadata": {},
     "output_type": "display_data"
    },
    {
     "name": "stdout",
     "output_type": "stream",
     "text": [
      "VALIDATION -- avg_loss=tensor(657.4727, device='cuda:3') -- acc=tensor(0.8653, device='cuda:3') -- mod_acc=tensor(0.1924, device='cuda:3')VALIDATION -- avg_loss=tensor(650.1040, device='cuda:2') -- acc=tensor(0.8686, device='cuda:2') -- mod_acc=tensor(0.2103, device='cuda:2')VALIDATION -- avg_loss=tensor(672.4233, device='cuda:0') -- acc=tensor(0.8626, device='cuda:0') -- mod_acc=tensor(0.1929, device='cuda:0')VALIDATION -- avg_loss=tensor(659.4344, device='cuda:1') -- acc=tensor(0.8681, device='cuda:1') -- mod_acc=tensor(0.2004, device='cuda:1')\n",
      "\n",
      "\n",
      "\n",
      "TRAINING -- avg_loss=tensor(754.1982, device='cuda:2', grad_fn=<MeanBackward0>) -- acc=tensor(0.6587, device='cuda:2') -- mod_acc=tensor(0.2931, device='cuda:2')TRAINING -- avg_loss=tensor(753.1982, device='cuda:3', grad_fn=<MeanBackward0>) -- acc=tensor(0.6618, device='cuda:3') -- mod_acc=tensor(0.3103, device='cuda:3')TRAINING -- avg_loss=tensor(758.1574, device='cuda:1', grad_fn=<MeanBackward0>) -- acc=tensor(0.6621, device='cuda:1') -- mod_acc=tensor(0.3252, device='cuda:1')\n",
      "\n",
      "\n",
      "TRAINING -- avg_loss=tensor(758.5219, device='cuda:0', grad_fn=<MeanBackward0>) -- acc=tensor(0.6592, device='cuda:0') -- mod_acc=tensor(0.3115, device='cuda:0')\n"
     ]
    },
    {
     "name": "stderr",
     "output_type": "stream",
     "text": [
      "/home/hiepphamduc/miniconda3/envs/torch_env/lib/python3.11/site-packages/pytorch_lightning/trainer/connectors/logger_connector/result.py:433: PossibleUserWarning: It is recommended to use `self.log('train_loss', ..., sync_dist=True)` when logging on epoch level in distributed setting to accumulate the metric across devices.\n",
      "  warning_cache.warn(\n",
      "/home/hiepphamduc/miniconda3/envs/torch_env/lib/python3.11/site-packages/pytorch_lightning/trainer/connectors/logger_connector/result.py:433: PossibleUserWarning: It is recommended to use `self.log('train_acc', ..., sync_dist=True)` when logging on epoch level in distributed setting to accumulate the metric across devices.\n",
      "  warning_cache.warn(\n",
      "/home/hiepphamduc/miniconda3/envs/torch_env/lib/python3.11/site-packages/pytorch_lightning/trainer/connectors/logger_connector/result.py:433: PossibleUserWarning: It is recommended to use `self.log('train_mod_acc', ..., sync_dist=True)` when logging on epoch level in distributed setting to accumulate the metric across devices.\n",
      "  warning_cache.warn(\n"
     ]
    },
    {
     "data": {
      "application/vnd.jupyter.widget-view+json": {
       "model_id": "",
       "version_major": 2,
       "version_minor": 0
      },
      "text/plain": [
       "Validation: 0it [00:00, ?it/s]"
      ]
     },
     "metadata": {},
     "output_type": "display_data"
    },
    {
     "name": "stdout",
     "output_type": "stream",
     "text": [
      "VALIDATION -- avg_loss=tensor(580.4205, device='cuda:0') -- acc=tensor(0.8722, device='cuda:0') -- mod_acc=tensor(0.2968, device='cuda:0')VALIDATION -- avg_loss=tensor(556.4386, device='cuda:3') -- acc=tensor(0.8743, device='cuda:3') -- mod_acc=tensor(0.3020, device='cuda:3')VALIDATION -- avg_loss=tensor(564.3323, device='cuda:2') -- acc=tensor(0.8751, device='cuda:2') -- mod_acc=tensor(0.3128, device='cuda:2')\n",
      "VALIDATION -- avg_loss=tensor(572.3955, device='cuda:1') -- acc=tensor(0.8745, device='cuda:1') -- mod_acc=tensor(0.2967, device='cuda:1')\n",
      "\n",
      "\n",
      "TRAINING -- avg_loss=tensor(677.0253, device='cuda:3', grad_fn=<MeanBackward0>) -- acc=tensor(0.7957, device='cuda:3') -- mod_acc=tensor(0.2519, device='cuda:3')TRAINING -- avg_loss=tensor(677.0215, device='cuda:2', grad_fn=<MeanBackward0>) -- acc=tensor(0.7950, device='cuda:2') -- mod_acc=tensor(0.2585, device='cuda:2')\n",
      "TRAINING -- avg_loss=tensor(682.0363, device='cuda:1', grad_fn=<MeanBackward0>) -- acc=tensor(0.7981, device='cuda:1') -- mod_acc=tensor(0.2728, device='cuda:1')\n",
      "\n",
      "TRAINING -- avg_loss=tensor(672.6033, device='cuda:0', grad_fn=<MeanBackward0>) -- acc=tensor(0.7959, device='cuda:0') -- mod_acc=tensor(0.2692, device='cuda:0')\n"
     ]
    },
    {
     "data": {
      "application/vnd.jupyter.widget-view+json": {
       "model_id": "",
       "version_major": 2,
       "version_minor": 0
      },
      "text/plain": [
       "Validation: 0it [00:00, ?it/s]"
      ]
     },
     "metadata": {},
     "output_type": "display_data"
    },
    {
     "name": "stdout",
     "output_type": "stream",
     "text": [
      "VALIDATION -- avg_loss=tensor(455.6790, device='cuda:3') -- acc=tensor(0.8949, device='cuda:3') -- mod_acc=tensor(0.3268, device='cuda:3')VALIDATION -- avg_loss=tensor(462.9998, device='cuda:2') -- acc=tensor(0.8965, device='cuda:2') -- mod_acc=tensor(0.3464, device='cuda:2')\n",
      "VALIDATION -- avg_loss=tensor(474.3198, device='cuda:0') -- acc=tensor(0.8940, device='cuda:0') -- mod_acc=tensor(0.3339, device='cuda:0')\n",
      "VALIDATION -- avg_loss=tensor(468.9583, device='cuda:1') -- acc=tensor(0.8949, device='cuda:1') -- mod_acc=tensor(0.3251, device='cuda:1')\n",
      "\n",
      "TRAINING -- avg_loss=tensor(557.3486, device='cuda:3', grad_fn=<MeanBackward0>) -- acc=tensor(0.8423, device='cuda:3') -- mod_acc=tensor(0.2963, device='cuda:3')\n",
      "TRAINING -- avg_loss=tensor(562.3192, device='cuda:1', grad_fn=<MeanBackward0>) -- acc=tensor(0.8446, device='cuda:1') -- mod_acc=tensor(0.3102, device='cuda:1')\n",
      "TRAINING -- avg_loss=tensor(561.7578, device='cuda:2', grad_fn=<MeanBackward0>) -- acc=tensor(0.8419, device='cuda:2') -- mod_acc=tensor(0.2982, device='cuda:2')\n",
      "TRAINING -- avg_loss=tensor(555.5780, device='cuda:0', grad_fn=<MeanBackward0>) -- acc=tensor(0.8430, device='cuda:0') -- mod_acc=tensor(0.3073, device='cuda:0')\n"
     ]
    },
    {
     "data": {
      "application/vnd.jupyter.widget-view+json": {
       "model_id": "",
       "version_major": 2,
       "version_minor": 0
      },
      "text/plain": [
       "Validation: 0it [00:00, ?it/s]"
      ]
     },
     "metadata": {},
     "output_type": "display_data"
    },
    {
     "name": "stdout",
     "output_type": "stream",
     "text": [
      "VALIDATION -- avg_loss=tensor(403.0391, device='cuda:0') -- acc=tensor(0.9083, device='cuda:0') -- mod_acc=tensor(0.3644, device='cuda:0')VALIDATION -- avg_loss=tensor(393.8348, device='cuda:2') -- acc=tensor(0.9103, device='cuda:2') -- mod_acc=tensor(0.3787, device='cuda:2')VALIDATION -- avg_loss=tensor(398.8300, device='cuda:1') -- acc=tensor(0.9086, device='cuda:1') -- mod_acc=tensor(0.3571, device='cuda:1')VALIDATION -- avg_loss=tensor(387.7722, device='cuda:3') -- acc=tensor(0.9084, device='cuda:3') -- mod_acc=tensor(0.3539, device='cuda:3')\n",
      "\n",
      "\n",
      "\n",
      "TRAINING -- avg_loss=tensor(467.4883, device='cuda:2', grad_fn=<MeanBackward0>) -- acc=tensor(0.8698, device='cuda:2') -- mod_acc=tensor(0.3514, device='cuda:2')TRAINING -- avg_loss=tensor(467.4634, device='cuda:3', grad_fn=<MeanBackward0>) -- acc=tensor(0.8690, device='cuda:3') -- mod_acc=tensor(0.3490, device='cuda:3')TRAINING -- avg_loss=tensor(472.6352, device='cuda:1', grad_fn=<MeanBackward0>) -- acc=tensor(0.8705, device='cuda:1') -- mod_acc=tensor(0.3578, device='cuda:1')\n",
      "\n",
      "\n",
      "TRAINING -- avg_loss=tensor(465.3096, device='cuda:0', grad_fn=<MeanBackward0>) -- acc=tensor(0.8700, device='cuda:0') -- mod_acc=tensor(0.3578, device='cuda:0')\n"
     ]
    },
    {
     "data": {
      "application/vnd.jupyter.widget-view+json": {
       "model_id": "",
       "version_major": 2,
       "version_minor": 0
      },
      "text/plain": [
       "Validation: 0it [00:00, ?it/s]"
      ]
     },
     "metadata": {},
     "output_type": "display_data"
    },
    {
     "name": "stdout",
     "output_type": "stream",
     "text": [
      "VALIDATION -- avg_loss=tensor(348.5866, device='cuda:1') -- acc=tensor(0.9185, device='cuda:1') -- mod_acc=tensor(0.4042, device='cuda:1')VALIDATION -- avg_loss=tensor(352.1544, device='cuda:0') -- acc=tensor(0.9186, device='cuda:0') -- mod_acc=tensor(0.4151, device='cuda:0')VALIDATION -- avg_loss=tensor(338.7676, device='cuda:3') -- acc=tensor(0.9191, device='cuda:3') -- mod_acc=tensor(0.4074, device='cuda:3')VALIDATION -- avg_loss=tensor(344.6226, device='cuda:2') -- acc=tensor(0.9205, device='cuda:2') -- mod_acc=tensor(0.4251, device='cuda:2')\n",
      "\n",
      "\n",
      "\n",
      "TRAINING -- avg_loss=tensor(408.1294, device='cuda:1', grad_fn=<MeanBackward0>) -- acc=tensor(0.8875, device='cuda:1') -- mod_acc=tensor(0.3966, device='cuda:1')TRAINING -- avg_loss=tensor(404.9378, device='cuda:3', grad_fn=<MeanBackward0>) -- acc=tensor(0.8866, device='cuda:3') -- mod_acc=tensor(0.3938, device='cuda:3')TRAINING -- avg_loss=tensor(405.0384, device='cuda:2', grad_fn=<MeanBackward0>) -- acc=tensor(0.8864, device='cuda:2') -- mod_acc=tensor(0.3851, device='cuda:2')\n",
      "\n",
      "\n",
      "TRAINING -- avg_loss=tensor(402.2767, device='cuda:0', grad_fn=<MeanBackward0>) -- acc=tensor(0.8875, device='cuda:0') -- mod_acc=tensor(0.4021, device='cuda:0')\n"
     ]
    },
    {
     "data": {
      "application/vnd.jupyter.widget-view+json": {
       "model_id": "",
       "version_major": 2,
       "version_minor": 0
      },
      "text/plain": [
       "Validation: 0it [00:00, ?it/s]"
      ]
     },
     "metadata": {},
     "output_type": "display_data"
    },
    {
     "name": "stdout",
     "output_type": "stream",
     "text": [
      "VALIDATION -- avg_loss=tensor(308.8110, device='cuda:2') -- acc=tensor(0.9277, device='cuda:2') -- mod_acc=tensor(0.4644, device='cuda:2')VALIDATION -- avg_loss=tensor(315.2013, device='cuda:0') -- acc=tensor(0.9263, device='cuda:0') -- mod_acc=tensor(0.4575, device='cuda:0')\n",
      "\n",
      "TRAINING -- avg_loss=tensor(358.7444, device='cuda:2', grad_fn=<MeanBackward0>) -- acc=tensor(0.8987, device='cuda:2') -- mod_acc=tensor(0.4246, device='cuda:2')\n",
      "VALIDATION -- avg_loss=tensor(312.5798, device='cuda:1') -- acc=tensor(0.9257, device='cuda:1') -- mod_acc=tensor(0.4423, device='cuda:1')VALIDATION -- avg_loss=tensor(303.3945, device='cuda:3') -- acc=tensor(0.9268, device='cuda:3') -- mod_acc=tensor(0.4526, device='cuda:3')\n",
      "\n",
      "TRAINING -- avg_loss=tensor(356.7201, device='cuda:0', grad_fn=<MeanBackward0>) -- acc=tensor(0.9001, device='cuda:0') -- mod_acc=tensor(0.4395, device='cuda:0')\n",
      "TRAINING -- avg_loss=tensor(362.1752, device='cuda:1', grad_fn=<MeanBackward0>) -- acc=tensor(0.9001, device='cuda:1') -- mod_acc=tensor(0.4370, device='cuda:1')TRAINING -- avg_loss=tensor(360.1907, device='cuda:3', grad_fn=<MeanBackward0>) -- acc=tensor(0.8992, device='cuda:3') -- mod_acc=tensor(0.4345, device='cuda:3')\n",
      "\n"
     ]
    },
    {
     "data": {
      "application/vnd.jupyter.widget-view+json": {
       "model_id": "",
       "version_major": 2,
       "version_minor": 0
      },
      "text/plain": [
       "Validation: 0it [00:00, ?it/s]"
      ]
     },
     "metadata": {},
     "output_type": "display_data"
    },
    {
     "name": "stdout",
     "output_type": "stream",
     "text": [
      "VALIDATION -- avg_loss=tensor(276.9814, device='cuda:3') -- acc=tensor(0.9327, device='cuda:3') -- mod_acc=tensor(0.4861, device='cuda:3')VALIDATION -- avg_loss=tensor(282.3203, device='cuda:2') -- acc=tensor(0.9332, device='cuda:2') -- mod_acc=tensor(0.4943, device='cuda:2')VALIDATION -- avg_loss=tensor(285.4591, device='cuda:1') -- acc=tensor(0.9316, device='cuda:1') -- mod_acc=tensor(0.4758, device='cuda:1')\n",
      "\n",
      "\n",
      "VALIDATION -- avg_loss=tensor(287.4995, device='cuda:0') -- acc=tensor(0.9322, device='cuda:0') -- mod_acc=tensor(0.4896, device='cuda:0')\n",
      "TRAINING -- avg_loss=tensor(325.4655, device='cuda:3', grad_fn=<MeanBackward0>) -- acc=tensor(0.9087, device='cuda:3') -- mod_acc=tensor(0.4652, device='cuda:3')TRAINING -- avg_loss=tensor(327.1594, device='cuda:1', grad_fn=<MeanBackward0>) -- acc=tensor(0.9092, device='cuda:1') -- mod_acc=tensor(0.4685, device='cuda:1')\n",
      "TRAINING -- avg_loss=tensor(324.3235, device='cuda:2', grad_fn=<MeanBackward0>) -- acc=tensor(0.9081, device='cuda:2') -- mod_acc=tensor(0.4538, device='cuda:2')\n",
      "\n",
      "TRAINING -- avg_loss=tensor(323.2255, device='cuda:0', grad_fn=<MeanBackward0>) -- acc=tensor(0.9092, device='cuda:0') -- mod_acc=tensor(0.4695, device='cuda:0')\n"
     ]
    },
    {
     "data": {
      "application/vnd.jupyter.widget-view+json": {
       "model_id": "",
       "version_major": 2,
       "version_minor": 0
      },
      "text/plain": [
       "Validation: 0it [00:00, ?it/s]"
      ]
     },
     "metadata": {},
     "output_type": "display_data"
    },
    {
     "name": "stdout",
     "output_type": "stream",
     "text": [
      "VALIDATION -- avg_loss=tensor(256.3522, device='cuda:3') -- acc=tensor(0.9373, device='cuda:3') -- mod_acc=tensor(0.5131, device='cuda:3')VALIDATION -- avg_loss=tensor(261.5343, device='cuda:2') -- acc=tensor(0.9376, device='cuda:2') -- mod_acc=tensor(0.5188, device='cuda:2')VALIDATION -- avg_loss=tensor(265.9372, device='cuda:0') -- acc=tensor(0.9368, device='cuda:0') -- mod_acc=tensor(0.5158, device='cuda:0')\n",
      "\n",
      "VALIDATION -- avg_loss=tensor(264.3469, device='cuda:1') -- acc=tensor(0.9360, device='cuda:1') -- mod_acc=tensor(0.5009, device='cuda:1')\n",
      "\n",
      "TRAINING -- avg_loss=tensor(299.1112, device='cuda:3', grad_fn=<MeanBackward0>) -- acc=tensor(0.9159, device='cuda:3') -- mod_acc=tensor(0.4908, device='cuda:3')TRAINING -- avg_loss=tensor(297.6152, device='cuda:2', grad_fn=<MeanBackward0>) -- acc=tensor(0.9156, device='cuda:2') -- mod_acc=tensor(0.4819, device='cuda:2')\n",
      "\n",
      "TRAINING -- avg_loss=tensor(300.5041, device='cuda:1', grad_fn=<MeanBackward0>) -- acc=tensor(0.9163, device='cuda:1') -- mod_acc=tensor(0.4937, device='cuda:1')\n",
      "TRAINING -- avg_loss=tensor(297.2906, device='cuda:0', grad_fn=<MeanBackward0>) -- acc=tensor(0.9163, device='cuda:0') -- mod_acc=tensor(0.4918, device='cuda:0')\n"
     ]
    },
    {
     "data": {
      "application/vnd.jupyter.widget-view+json": {
       "model_id": "",
       "version_major": 2,
       "version_minor": 0
      },
      "text/plain": [
       "Validation: 0it [00:00, ?it/s]"
      ]
     },
     "metadata": {},
     "output_type": "display_data"
    },
    {
     "name": "stdout",
     "output_type": "stream",
     "text": [
      "VALIDATION -- avg_loss=tensor(249.3703, device='cuda:0') -- acc=tensor(0.9403, device='cuda:0') -- mod_acc=tensor(0.5415, device='cuda:0')\n",
      "VALIDATION -- avg_loss=tensor(245.4479, device='cuda:2') -- acc=tensor(0.9411, device='cuda:2') -- mod_acc=tensor(0.5452, device='cuda:2')VALIDATION -- avg_loss=tensor(248.2952, device='cuda:1') -- acc=tensor(0.9394, device='cuda:1') -- mod_acc=tensor(0.5261, device='cuda:1')VALIDATION -- avg_loss=tensor(240.4826, device='cuda:3') -- acc=tensor(0.9408, device='cuda:3') -- mod_acc=tensor(0.5400, device='cuda:3')\n",
      "\n",
      "\n",
      "TRAINING -- avg_loss=tensor(279.0172, device='cuda:1', grad_fn=<MeanBackward0>) -- acc=tensor(0.9222, device='cuda:1') -- mod_acc=tensor(0.5136, device='cuda:1')\n",
      "TRAINING -- avg_loss=tensor(277.2939, device='cuda:0', grad_fn=<MeanBackward0>) -- acc=tensor(0.9215, device='cuda:0') -- mod_acc=tensor(0.5095, device='cuda:0')\n",
      "TRAINING -- avg_loss=tensor(277.4800, device='cuda:2', grad_fn=<MeanBackward0>) -- acc=tensor(0.9211, device='cuda:2') -- mod_acc=tensor(0.5019, device='cuda:2')\n",
      "TRAINING -- avg_loss=tensor(277.4933, device='cuda:3', grad_fn=<MeanBackward0>) -- acc=tensor(0.9217, device='cuda:3') -- mod_acc=tensor(0.5124, device='cuda:3')\n"
     ]
    },
    {
     "data": {
      "application/vnd.jupyter.widget-view+json": {
       "model_id": "",
       "version_major": 2,
       "version_minor": 0
      },
      "text/plain": [
       "Validation: 0it [00:00, ?it/s]"
      ]
     },
     "metadata": {},
     "output_type": "display_data"
    },
    {
     "name": "stdout",
     "output_type": "stream",
     "text": [
      "VALIDATION -- avg_loss=tensor(227.1109, device='cuda:3') -- acc=tensor(0.9437, device='cuda:3') -- mod_acc=tensor(0.5594, device='cuda:3')VALIDATION -- avg_loss=tensor(235.4850, device='cuda:0') -- acc=tensor(0.9434, device='cuda:0') -- mod_acc=tensor(0.5612, device='cuda:0')\n",
      "VALIDATION -- avg_loss=tensor(234.9514, device='cuda:1') -- acc=tensor(0.9422, device='cuda:1') -- mod_acc=tensor(0.5454, device='cuda:1')\n",
      "\n",
      "VALIDATION -- avg_loss=tensor(231.9137, device='cuda:2') -- acc=tensor(0.9440, device='cuda:2') -- mod_acc=tensor(0.5631, device='cuda:2')\n",
      "TRAINING -- avg_loss=tensor(260.7961, device='cuda:3', grad_fn=<MeanBackward0>) -- acc=tensor(0.9265, device='cuda:3') -- mod_acc=tensor(0.5311, device='cuda:3')\n",
      "TRAINING -- avg_loss=tensor(261.5480, device='cuda:1', grad_fn=<MeanBackward0>) -- acc=tensor(0.9267, device='cuda:1') -- mod_acc=tensor(0.5317, device='cuda:1')\n",
      "TRAINING -- avg_loss=tensor(261.1140, device='cuda:2', grad_fn=<MeanBackward0>) -- acc=tensor(0.9256, device='cuda:2') -- mod_acc=tensor(0.5200, device='cuda:2')\n",
      "TRAINING -- avg_loss=tensor(260.1940, device='cuda:0', grad_fn=<MeanBackward0>) -- acc=tensor(0.9263, device='cuda:0') -- mod_acc=tensor(0.5303, device='cuda:0')\n"
     ]
    },
    {
     "data": {
      "application/vnd.jupyter.widget-view+json": {
       "model_id": "",
       "version_major": 2,
       "version_minor": 0
      },
      "text/plain": [
       "Validation: 0it [00:00, ?it/s]"
      ]
     },
     "metadata": {},
     "output_type": "display_data"
    },
    {
     "name": "stdout",
     "output_type": "stream",
     "text": [
      "VALIDATION -- avg_loss=tensor(224.0638, device='cuda:0') -- acc=tensor(0.9458, device='cuda:0') -- mod_acc=tensor(0.5733, device='cuda:0')VALIDATION -- avg_loss=tensor(216.0474, device='cuda:3') -- acc=tensor(0.9462, device='cuda:3') -- mod_acc=tensor(0.5729, device='cuda:3')\n",
      "\n",
      "TRAINING -- avg_loss=tensor(245.8819, device='cuda:3', grad_fn=<MeanBackward0>) -- acc=tensor(0.9308, device='cuda:3') -- mod_acc=tensor(0.5499, device='cuda:3')\n",
      "VALIDATION -- avg_loss=tensor(223.8477, device='cuda:1') -- acc=tensor(0.9445, device='cuda:1') -- mod_acc=tensor(0.5585, device='cuda:1')\n",
      "TRAINING -- avg_loss=tensor(246.3283, device='cuda:0', grad_fn=<MeanBackward0>) -- acc=tensor(0.9301, device='cuda:0') -- mod_acc=tensor(0.5451, device='cuda:0')\n",
      "TRAINING -- avg_loss=tensor(247.6998, device='cuda:1', grad_fn=<MeanBackward0>) -- acc=tensor(0.9306, device='cuda:1') -- mod_acc=tensor(0.5468, device='cuda:1')\n",
      "VALIDATION -- avg_loss=tensor(221.1476, device='cuda:2') -- acc=tensor(0.9462, device='cuda:2') -- mod_acc=tensor(0.5751, device='cuda:2')\n",
      "TRAINING -- avg_loss=tensor(246.6737, device='cuda:2', grad_fn=<MeanBackward0>) -- acc=tensor(0.9296, device='cuda:2') -- mod_acc=tensor(0.5374, device='cuda:2')\n"
     ]
    },
    {
     "data": {
      "application/vnd.jupyter.widget-view+json": {
       "model_id": "",
       "version_major": 2,
       "version_minor": 0
      },
      "text/plain": [
       "Validation: 0it [00:00, ?it/s]"
      ]
     },
     "metadata": {},
     "output_type": "display_data"
    },
    {
     "name": "stdout",
     "output_type": "stream",
     "text": [
      "VALIDATION -- avg_loss=tensor(214.3098, device='cuda:0') -- acc=tensor(0.9479, device='cuda:0') -- mod_acc=tensor(0.5879, device='cuda:0')VALIDATION -- avg_loss=tensor(214.4193, device='cuda:1') -- acc=tensor(0.9466, device='cuda:1') -- mod_acc=tensor(0.5728, device='cuda:1')VALIDATION -- avg_loss=tensor(206.8145, device='cuda:3') -- acc=tensor(0.9483, device='cuda:3') -- mod_acc=tensor(0.5881, device='cuda:3')VALIDATION -- avg_loss=tensor(211.8084, device='cuda:2') -- acc=tensor(0.9482, device='cuda:2') -- mod_acc=tensor(0.5883, device='cuda:2')\n",
      "\n",
      "\n",
      "\n",
      "TRAINING -- avg_loss=tensor(235.7490, device='cuda:1', grad_fn=<MeanBackward0>) -- acc=tensor(0.9338, device='cuda:1') -- mod_acc=tensor(0.5597, device='cuda:1')TRAINING -- avg_loss=tensor(233.5652, device='cuda:3', grad_fn=<MeanBackward0>) -- acc=tensor(0.9342, device='cuda:3') -- mod_acc=tensor(0.5628, device='cuda:3')TRAINING -- avg_loss=tensor(235.8443, device='cuda:2', grad_fn=<MeanBackward0>) -- acc=tensor(0.9324, device='cuda:2') -- mod_acc=tensor(0.5463, device='cuda:2')\n",
      "\n",
      "\n",
      "TRAINING -- avg_loss=tensor(233.9675, device='cuda:0', grad_fn=<MeanBackward0>) -- acc=tensor(0.9334, device='cuda:0') -- mod_acc=tensor(0.5586, device='cuda:0')\n"
     ]
    },
    {
     "data": {
      "application/vnd.jupyter.widget-view+json": {
       "model_id": "",
       "version_major": 2,
       "version_minor": 0
      },
      "text/plain": [
       "Validation: 0it [00:00, ?it/s]"
      ]
     },
     "metadata": {},
     "output_type": "display_data"
    },
    {
     "name": "stdout",
     "output_type": "stream",
     "text": [
      "VALIDATION -- avg_loss=tensor(205.8640, device='cuda:0') -- acc=tensor(0.9497, device='cuda:0') -- mod_acc=tensor(0.5998, device='cuda:0')VALIDATION -- avg_loss=tensor(203.6902, device='cuda:2') -- acc=tensor(0.9500, device='cuda:2') -- mod_acc=tensor(0.5999, device='cuda:2')VALIDATION -- avg_loss=tensor(206.2659, device='cuda:1') -- acc=tensor(0.9483, device='cuda:1') -- mod_acc=tensor(0.5846, device='cuda:1')VALIDATION -- avg_loss=tensor(198.6879, device='cuda:3') -- acc=tensor(0.9502, device='cuda:3') -- mod_acc=tensor(0.6003, device='cuda:3')\n",
      "\n",
      "\n",
      "\n",
      "TRAINING -- avg_loss=tensor(225.5344, device='cuda:2', grad_fn=<MeanBackward0>) -- acc=tensor(0.9353, device='cuda:2') -- mod_acc=tensor(0.5596, device='cuda:2')TRAINING -- avg_loss=tensor(225.0595, device='cuda:1', grad_fn=<MeanBackward0>) -- acc=tensor(0.9368, device='cuda:1') -- mod_acc=tensor(0.5727, device='cuda:1')TRAINING -- avg_loss=tensor(223.0620, device='cuda:3', grad_fn=<MeanBackward0>) -- acc=tensor(0.9371, device='cuda:3') -- mod_acc=tensor(0.5751, device='cuda:3')\n",
      "\n",
      "\n",
      "TRAINING -- avg_loss=tensor(224.0968, device='cuda:0', grad_fn=<MeanBackward0>) -- acc=tensor(0.9364, device='cuda:0') -- mod_acc=tensor(0.5707, device='cuda:0')\n"
     ]
    },
    {
     "data": {
      "application/vnd.jupyter.widget-view+json": {
       "model_id": "",
       "version_major": 2,
       "version_minor": 0
      },
      "text/plain": [
       "Validation: 0it [00:00, ?it/s]"
      ]
     },
     "metadata": {},
     "output_type": "display_data"
    },
    {
     "name": "stdout",
     "output_type": "stream",
     "text": [
      "VALIDATION -- avg_loss=tensor(198.6698, device='cuda:0') -- acc=tensor(0.9514, device='cuda:0') -- mod_acc=tensor(0.6107, device='cuda:0')VALIDATION -- avg_loss=tensor(191.8308, device='cuda:3') -- acc=tensor(0.9517, device='cuda:3') -- mod_acc=tensor(0.6113, device='cuda:3')VALIDATION -- avg_loss=tensor(199.4717, device='cuda:1') -- acc=tensor(0.9498, device='cuda:1') -- mod_acc=tensor(0.5950, device='cuda:1')\n",
      "\n",
      "\n",
      "TRAINING -- avg_loss=tensor(214.6316, device='cuda:3', grad_fn=<MeanBackward0>) -- acc=tensor(0.9394, device='cuda:3') -- mod_acc=tensor(0.5841, device='cuda:3')\n",
      "TRAINING -- avg_loss=tensor(215.4075, device='cuda:1', grad_fn=<MeanBackward0>) -- acc=tensor(0.9396, device='cuda:1') -- mod_acc=tensor(0.5861, device='cuda:1')\n",
      "TRAINING -- avg_loss=tensor(215.0872, device='cuda:0', grad_fn=<MeanBackward0>) -- acc=tensor(0.9390, device='cuda:0') -- mod_acc=tensor(0.5827, device='cuda:0')\n",
      "VALIDATION -- avg_loss=tensor(196.8111, device='cuda:2') -- acc=tensor(0.9514, device='cuda:2') -- mod_acc=tensor(0.6097, device='cuda:2')\n",
      "TRAINING -- avg_loss=tensor(216.7916, device='cuda:2', grad_fn=<MeanBackward0>) -- acc=tensor(0.9377, device='cuda:2') -- mod_acc=tensor(0.5704, device='cuda:2')\n"
     ]
    },
    {
     "data": {
      "application/vnd.jupyter.widget-view+json": {
       "model_id": "",
       "version_major": 2,
       "version_minor": 0
      },
      "text/plain": [
       "Validation: 0it [00:00, ?it/s]"
      ]
     },
     "metadata": {},
     "output_type": "display_data"
    },
    {
     "name": "stdout",
     "output_type": "stream",
     "text": [
      "VALIDATION -- avg_loss=tensor(192.6153, device='cuda:0') -- acc=tensor(0.9526, device='cuda:0') -- mod_acc=tensor(0.6204, device='cuda:0')VALIDATION -- avg_loss=tensor(190.8351, device='cuda:2') -- acc=tensor(0.9527, device='cuda:2') -- mod_acc=tensor(0.6200, device='cuda:2')\n",
      "\n",
      "VALIDATION -- avg_loss=tensor(193.5977, device='cuda:1') -- acc=tensor(0.9509, device='cuda:1') -- mod_acc=tensor(0.6050, device='cuda:1')\n",
      "VALIDATION -- avg_loss=tensor(186.1203, device='cuda:3') -- acc=tensor(0.9528, device='cuda:3') -- mod_acc=tensor(0.6211, device='cuda:3')\n",
      "TRAINING -- avg_loss=tensor(208.7853, device='cuda:2', grad_fn=<MeanBackward0>) -- acc=tensor(0.9400, device='cuda:2') -- mod_acc=tensor(0.5808, device='cuda:2')\n",
      "TRAINING -- avg_loss=tensor(207.4461, device='cuda:1', grad_fn=<MeanBackward0>) -- acc=tensor(0.9418, device='cuda:1') -- mod_acc=tensor(0.5951, device='cuda:1')\n",
      "TRAINING -- avg_loss=tensor(206.9993, device='cuda:0', grad_fn=<MeanBackward0>) -- acc=tensor(0.9413, device='cuda:0') -- mod_acc=tensor(0.5935, device='cuda:0')\n",
      "TRAINING -- avg_loss=tensor(207.5324, device='cuda:3', grad_fn=<MeanBackward0>) -- acc=tensor(0.9414, device='cuda:3') -- mod_acc=tensor(0.5913, device='cuda:3')\n"
     ]
    },
    {
     "data": {
      "application/vnd.jupyter.widget-view+json": {
       "model_id": "",
       "version_major": 2,
       "version_minor": 0
      },
      "text/plain": [
       "Validation: 0it [00:00, ?it/s]"
      ]
     },
     "metadata": {},
     "output_type": "display_data"
    },
    {
     "name": "stdout",
     "output_type": "stream",
     "text": [
      "VALIDATION -- avg_loss=tensor(186.9862, device='cuda:0') -- acc=tensor(0.9538, device='cuda:0') -- mod_acc=tensor(0.6282, device='cuda:0')VALIDATION -- avg_loss=tensor(180.6935, device='cuda:3') -- acc=tensor(0.9540, device='cuda:3') -- mod_acc=tensor(0.6284, device='cuda:3')VALIDATION -- avg_loss=tensor(188.0873, device='cuda:1') -- acc=tensor(0.9521, device='cuda:1') -- mod_acc=tensor(0.6130, device='cuda:1')VALIDATION -- avg_loss=tensor(185.3795, device='cuda:2') -- acc=tensor(0.9538, device='cuda:2') -- mod_acc=tensor(0.6269, device='cuda:2')\n",
      "\n",
      "\n",
      "\n",
      "TRAINING -- avg_loss=tensor(201.0299, device='cuda:3', grad_fn=<MeanBackward0>) -- acc=tensor(0.9430, device='cuda:3') -- mod_acc=tensor(0.5982, device='cuda:3')\n",
      "TRAINING -- avg_loss=tensor(201.7511, device='cuda:2', grad_fn=<MeanBackward0>) -- acc=tensor(0.9418, device='cuda:2') -- mod_acc=tensor(0.5888, device='cuda:2')TRAINING -- avg_loss=tensor(200.5150, device='cuda:1', grad_fn=<MeanBackward0>) -- acc=tensor(0.9436, device='cuda:1') -- mod_acc=tensor(0.6033, device='cuda:1')\n",
      "\n",
      "TRAINING -- avg_loss=tensor(199.9492, device='cuda:0', grad_fn=<MeanBackward0>) -- acc=tensor(0.9433, device='cuda:0') -- mod_acc=tensor(0.6026, device='cuda:0')\n"
     ]
    },
    {
     "data": {
      "application/vnd.jupyter.widget-view+json": {
       "model_id": "",
       "version_major": 2,
       "version_minor": 0
      },
      "text/plain": [
       "Validation: 0it [00:00, ?it/s]"
      ]
     },
     "metadata": {},
     "output_type": "display_data"
    },
    {
     "name": "stdout",
     "output_type": "stream",
     "text": [
      "VALIDATION -- avg_loss=tensor(180.6061, device='cuda:2') -- acc=tensor(0.9549, device='cuda:2') -- mod_acc=tensor(0.6335, device='cuda:2')VALIDATION -- avg_loss=tensor(181.9701, device='cuda:0') -- acc=tensor(0.9549, device='cuda:0') -- mod_acc=tensor(0.6351, device='cuda:0')VALIDATION -- avg_loss=tensor(175.9946, device='cuda:3') -- acc=tensor(0.9551, device='cuda:3') -- mod_acc=tensor(0.6352, device='cuda:3')\n",
      "\n",
      "\n",
      "VALIDATION -- avg_loss=tensor(183.2355, device='cuda:1') -- acc=tensor(0.9532, device='cuda:1') -- mod_acc=tensor(0.6198, device='cuda:1')\n",
      "TRAINING -- avg_loss=tensor(195.5577, device='cuda:2', grad_fn=<MeanBackward0>) -- acc=tensor(0.9434, device='cuda:2') -- mod_acc=tensor(0.5958, device='cuda:2')TRAINING -- avg_loss=tensor(194.9471, device='cuda:3', grad_fn=<MeanBackward0>) -- acc=tensor(0.9448, device='cuda:3') -- mod_acc=tensor(0.6046, device='cuda:3')\n",
      "TRAINING -- avg_loss=tensor(194.2396, device='cuda:1', grad_fn=<MeanBackward0>) -- acc=tensor(0.9454, device='cuda:1') -- mod_acc=tensor(0.6109, device='cuda:1')\n",
      "\n",
      "TRAINING -- avg_loss=tensor(193.6509, device='cuda:0', grad_fn=<MeanBackward0>) -- acc=tensor(0.9450, device='cuda:0') -- mod_acc=tensor(0.6108, device='cuda:0')\n"
     ]
    },
    {
     "data": {
      "application/vnd.jupyter.widget-view+json": {
       "model_id": "",
       "version_major": 2,
       "version_minor": 0
      },
      "text/plain": [
       "Validation: 0it [00:00, ?it/s]"
      ]
     },
     "metadata": {},
     "output_type": "display_data"
    },
    {
     "name": "stdout",
     "output_type": "stream",
     "text": [
      "VALIDATION -- avg_loss=tensor(177.4847, device='cuda:0') -- acc=tensor(0.9559, device='cuda:0') -- mod_acc=tensor(0.6411, device='cuda:0')VALIDATION -- avg_loss=tensor(178.9194, device='cuda:1') -- acc=tensor(0.9542, device='cuda:1') -- mod_acc=tensor(0.6261, device='cuda:1')VALIDATION -- avg_loss=tensor(176.3086, device='cuda:2') -- acc=tensor(0.9558, device='cuda:2') -- mod_acc=tensor(0.6391, device='cuda:2')\n",
      "VALIDATION -- avg_loss=tensor(171.7061, device='cuda:3') -- acc=tensor(0.9562, device='cuda:3') -- mod_acc=tensor(0.6418, device='cuda:3')\n",
      "\n",
      "\n",
      "TRAINING -- avg_loss=tensor(189.7152, device='cuda:3', grad_fn=<MeanBackward0>) -- acc=tensor(0.9462, device='cuda:3') -- mod_acc=tensor(0.6094, device='cuda:3')TRAINING -- avg_loss=tensor(189.9349, device='cuda:2', grad_fn=<MeanBackward0>) -- acc=tensor(0.9451, device='cuda:2') -- mod_acc=tensor(0.6035, device='cuda:2')TRAINING -- avg_loss=tensor(188.5702, device='cuda:1', grad_fn=<MeanBackward0>) -- acc=tensor(0.9469, device='cuda:1') -- mod_acc=tensor(0.6178, device='cuda:1')\n",
      "\n",
      "\n",
      "TRAINING -- avg_loss=tensor(187.8798, device='cuda:0', grad_fn=<MeanBackward0>) -- acc=tensor(0.9467, device='cuda:0') -- mod_acc=tensor(0.6185, device='cuda:0')\n"
     ]
    },
    {
     "data": {
      "application/vnd.jupyter.widget-view+json": {
       "model_id": "",
       "version_major": 2,
       "version_minor": 0
      },
      "text/plain": [
       "Validation: 0it [00:00, ?it/s]"
      ]
     },
     "metadata": {},
     "output_type": "display_data"
    },
    {
     "name": "stdout",
     "output_type": "stream",
     "text": [
      "VALIDATION -- avg_loss=tensor(173.6431, device='cuda:0') -- acc=tensor(0.9567, device='cuda:0') -- mod_acc=tensor(0.6449, device='cuda:0')VALIDATION -- avg_loss=tensor(172.7589, device='cuda:2') -- acc=tensor(0.9565, device='cuda:2') -- mod_acc=tensor(0.6421, device='cuda:2')VALIDATION -- avg_loss=tensor(168.0207, device='cuda:3') -- acc=tensor(0.9571, device='cuda:3') -- mod_acc=tensor(0.6467, device='cuda:3')VALIDATION -- avg_loss=tensor(175.1850, device='cuda:1') -- acc=tensor(0.9550, device='cuda:1') -- mod_acc=tensor(0.6298, device='cuda:1')\n",
      "\n",
      "\n",
      "\n",
      "TRAINING -- avg_loss=tensor(185.0090, device='cuda:2', grad_fn=<MeanBackward0>) -- acc=tensor(0.9465, device='cuda:2') -- mod_acc=tensor(0.6102, device='cuda:2')\n",
      "TRAINING -- avg_loss=tensor(183.3237, device='cuda:1', grad_fn=<MeanBackward0>) -- acc=tensor(0.9484, device='cuda:1') -- mod_acc=tensor(0.6250, device='cuda:1')\n",
      "TRAINING -- avg_loss=tensor(184.7440, device='cuda:3', grad_fn=<MeanBackward0>) -- acc=tensor(0.9477, device='cuda:3') -- mod_acc=tensor(0.6165, device='cuda:3')\n",
      "TRAINING -- avg_loss=tensor(183.1392, device='cuda:0', grad_fn=<MeanBackward0>) -- acc=tensor(0.9480, device='cuda:0') -- mod_acc=tensor(0.6237, device='cuda:0')\n"
     ]
    },
    {
     "data": {
      "application/vnd.jupyter.widget-view+json": {
       "model_id": "",
       "version_major": 2,
       "version_minor": 0
      },
      "text/plain": [
       "Validation: 0it [00:00, ?it/s]"
      ]
     },
     "metadata": {},
     "output_type": "display_data"
    },
    {
     "name": "stdout",
     "output_type": "stream",
     "text": [
      "VALIDATION -- avg_loss=tensor(171.6060, device='cuda:1') -- acc=tensor(0.9558, device='cuda:1') -- mod_acc=tensor(0.6351, device='cuda:1')VALIDATION -- avg_loss=tensor(164.5011, device='cuda:3') -- acc=tensor(0.9579, device='cuda:3') -- mod_acc=tensor(0.6520, device='cuda:3')VALIDATION -- avg_loss=tensor(169.2309, device='cuda:2') -- acc=tensor(0.9573, device='cuda:2') -- mod_acc=tensor(0.6467, device='cuda:2')\n",
      "\n",
      "\n",
      "VALIDATION -- avg_loss=tensor(170.0227, device='cuda:0') -- acc=tensor(0.9575, device='cuda:0') -- mod_acc=tensor(0.6499, device='cuda:0')\n",
      "TRAINING -- avg_loss=tensor(178.6436, device='cuda:1', grad_fn=<MeanBackward0>) -- acc=tensor(0.9497, device='cuda:1') -- mod_acc=tensor(0.6315, device='cuda:1')TRAINING -- avg_loss=tensor(180.2392, device='cuda:3', grad_fn=<MeanBackward0>) -- acc=tensor(0.9489, device='cuda:3') -- mod_acc=tensor(0.6219, device='cuda:3')\n",
      "\n",
      "TRAINING -- avg_loss=tensor(180.6771, device='cuda:2', grad_fn=<MeanBackward0>) -- acc=tensor(0.9477, device='cuda:2') -- mod_acc=tensor(0.6163, device='cuda:2')\n",
      "TRAINING -- avg_loss=tensor(178.7073, device='cuda:0', grad_fn=<MeanBackward0>) -- acc=tensor(0.9493, device='cuda:0') -- mod_acc=tensor(0.6290, device='cuda:0')\n"
     ]
    },
    {
     "name": "stderr",
     "output_type": "stream",
     "text": [
      "`Trainer.fit` stopped: `max_epochs=20` reached.\n"
     ]
    }
   ],
   "source": [
    "trainer = pl.Trainer(accelerator='gpu', max_epochs=20, precision='16-mixed', log_every_n_steps=1)\n",
    "trainer.fit(model, dl_train, dl_valid)"
   ]
  },
  {
   "cell_type": "raw",
   "id": "fd3c13bc-b6e8-4996-b96d-54cd6335fded",
   "metadata": {},
   "source": []
  },
  {
   "cell_type": "code",
   "execution_count": 22,
   "id": "e53f83f1-2f1e-48d3-8374-89f5128e1324",
   "metadata": {
    "tags": []
   },
   "outputs": [
    {
     "name": "stderr",
     "output_type": "stream",
     "text": [
      "/home/hiepphamduc/miniconda3/envs/torch_env/lib/python3.11/site-packages/lightning_fabric/plugins/environments/slurm.py:168: PossibleUserWarning: The `srun` command is available on your system but is not used. HINT: If your intention is to run Lightning on SLURM, prepend your python command with `srun` like so: srun python /home/hiepphamduc/miniconda3/envs/torch_env/lib/pyth ...\n",
      "  rank_zero_warn(\n",
      "Initializing distributed: GLOBAL_RANK: 0, MEMBER: 1/4\n",
      "/home/hiepphamduc/miniconda3/envs/torch_env/lib/python3.11/site-packages/lightning_fabric/plugins/environments/slurm.py:168: PossibleUserWarning: The `srun` command is available on your system but is not used. HINT: If your intention is to run Lightning on SLURM, prepend your python command with `srun` like so: srun python /home/hiepphamduc/miniconda3/envs/torch_env/lib/pyth ...\n",
      "  rank_zero_warn(\n",
      "Initializing distributed: GLOBAL_RANK: 1, MEMBER: 2/4\n",
      "/home/hiepphamduc/miniconda3/envs/torch_env/lib/python3.11/site-packages/lightning_fabric/plugins/environments/slurm.py:168: PossibleUserWarning: The `srun` command is available on your system but is not used. HINT: If your intention is to run Lightning on SLURM, prepend your python command with `srun` like so: srun python /home/hiepphamduc/miniconda3/envs/torch_env/lib/pyth ...\n",
      "  rank_zero_warn(\n",
      "Initializing distributed: GLOBAL_RANK: 2, MEMBER: 3/4\n",
      "/home/hiepphamduc/miniconda3/envs/torch_env/lib/python3.11/site-packages/lightning_fabric/plugins/environments/slurm.py:168: PossibleUserWarning: The `srun` command is available on your system but is not used. HINT: If your intention is to run Lightning on SLURM, prepend your python command with `srun` like so: srun python /home/hiepphamduc/miniconda3/envs/torch_env/lib/pyth ...\n",
      "  rank_zero_warn(\n",
      "Initializing distributed: GLOBAL_RANK: 3, MEMBER: 4/4\n",
      "----------------------------------------------------------------------------------------------------\n",
      "distributed_backend=nccl\n",
      "All distributed processes registered. Starting with 4 processes\n",
      "----------------------------------------------------------------------------------------------------\n",
      "\n",
      "LOCAL_RANK: 2 - CUDA_VISIBLE_DEVICES: [0,1,2,3]\n",
      "LOCAL_RANK: 0 - CUDA_VISIBLE_DEVICES: [0,1,2,3]\n",
      "LOCAL_RANK: 3 - CUDA_VISIBLE_DEVICES: [0,1,2,3]\n",
      "LOCAL_RANK: 1 - CUDA_VISIBLE_DEVICES: [0,1,2,3]\n"
     ]
    },
    {
     "data": {
      "application/vnd.jupyter.widget-view+json": {
       "model_id": "5ba87a5db5b1476f99b7db2dd7ed68cb",
       "version_major": 2,
       "version_minor": 0
      },
      "text/plain": [
       "Predicting: 0it [00:00, ?it/s]"
      ]
     },
     "metadata": {},
     "output_type": "display_data"
    }
   ],
   "source": [
    "predictions = trainer.predict(model, dl_test)"
   ]
  },
  {
   "cell_type": "code",
   "execution_count": null,
   "id": "8133f985-c464-40e2-8286-970dec79fa16",
   "metadata": {
    "tags": []
   },
   "outputs": [],
   "source": [
    "# eval_loss, correct = 0, 0\n",
    "# i = 0\n",
    "# low_acc_lst = None\n",
    "# with torch.no_grad():\n",
    "#     for X, y in dl_test:\n",
    "#         #X, y = X.to(device), y.to(device)\n",
    "#         out = model(X)\n",
    "#         out = torch.nn.Sigmoid()(out)\n",
    "#         if i == 0:\n",
    "#             low_acc_lst = out\n",
    "#         else:\n",
    "#             low_acc_lst = torch.cat((low_acc_lst, out))    \n",
    "#         i += 1\n",
    "#         if i == 50:\n",
    "#             break\n"
   ]
  },
  {
   "cell_type": "code",
   "execution_count": 28,
   "id": "7311b698-a7a1-4e4d-94e9-0b020867fbcd",
   "metadata": {
    "tags": []
   },
   "outputs": [],
   "source": [
    "# inv_normalize = tvtf.Normalize(\n",
    "#     mean= [-m for m in mean],\n",
    "#     std= [1/s for s in std]\n",
    "# )"
   ]
  },
  {
   "cell_type": "code",
   "execution_count": 29,
   "id": "dcc90ca3-0229-420b-a244-001ddbaf432a",
   "metadata": {
    "tags": []
   },
   "outputs": [],
   "source": [
    "# sample_idx = 10\n",
    "\n",
    "# figure = plt.figure(figsize=(10, 10))\n",
    "# cols, rows = 3, 3\n",
    "# for i in range(1, cols * rows + 1):\n",
    "#     sample_idx = torch.randint(len(predictions), size=(1,)).item()\n",
    "#     img, label = ds_test[sample_idx]\n",
    "#     img, label = img.to(\"cpu\"), label.to(\"cpu\")\n",
    "#     img = inv_normalize(img)\n",
    "#     figure.add_subplot(rows, cols, i)\n",
    "#     true_label = decode_target(label)\n",
    "#     pred_label = decode_target(predictions[sample_idx])\n",
    "#     title = f\"True label: {true_label}\\nPred label: {pred_label}\"\n",
    "#     plt.title(title)\n",
    "#     plt.axis(\"off\")\n",
    "#     plt.imshow(img.squeeze().permute(1, 2, 0), cmap=\"gray\")\n",
    "# plt.show()"
   ]
  },
  {
   "cell_type": "code",
   "execution_count": null,
   "id": "ab4dbe57-61d1-4816-9aeb-346cc12786a8",
   "metadata": {},
   "outputs": [],
   "source": []
  }
 ],
 "metadata": {
  "kernelspec": {
   "display_name": "Python 3 (ipykernel)",
   "language": "python",
   "name": "python3"
  },
  "language_info": {
   "codemirror_mode": {
    "name": "ipython",
    "version": 3
   },
   "file_extension": ".py",
   "mimetype": "text/x-python",
   "name": "python",
   "nbconvert_exporter": "python",
   "pygments_lexer": "ipython3",
   "version": "3.11.4"
  }
 },
 "nbformat": 4,
 "nbformat_minor": 5
}
